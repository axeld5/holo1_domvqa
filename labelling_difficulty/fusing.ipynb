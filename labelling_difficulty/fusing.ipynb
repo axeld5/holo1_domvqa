{
 "cells": [
  {
   "cell_type": "code",
   "execution_count": 1,
   "metadata": {},
   "outputs": [
    {
     "name": "stdout",
     "output_type": "stream",
     "text": [
      "Loaded 201 from domvqa_verified.json\n",
      "Loaded 199 from domvqa_verified_v2.json\n",
      "Fused total: 400 examples\n"
     ]
    }
   ],
   "source": [
    "import json\n",
    "\n",
    "with open(\"domvqa_verified_full.json\", \"r\", encoding=\"utf-8\") as f1:\n",
    "    data1 = json.load(f1)\n",
    "with open(\"domvqa_verified_full_v2.json\", \"r\", encoding=\"utf-8\") as f2:\n",
    "    data2 = json.load(f2)\n",
    "\n",
    "fused = data1 + data2\n",
    "\n",
    "print(f\"Loaded {len(data1)} from domvqa_verified.json\")\n",
    "print(f\"Loaded {len(data2)} from domvqa_verified_v2.json\")\n",
    "print(f\"Fused total: {len(fused)} examples\")"
   ]
  },
  {
   "cell_type": "code",
   "execution_count": 2,
   "metadata": {},
   "outputs": [
    {
     "name": "stdout",
     "output_type": "stream",
     "text": [
      "Filtered total: 400 examples (removed 0)\n"
     ]
    }
   ],
   "source": [
    "# Remove samples where either dom_difficulty or img_difficulty is 0\n",
    "filtered = [\n",
    "    ex for ex in fused\n",
    "    if ex.get(\"dom_difficulty\", 1) != 0 and ex.get(\"img_difficulty\", 1) != 0\n",
    "]\n",
    "print(f\"Filtered total: {len(filtered)} examples (removed {len(fused) - len(filtered)})\")"
   ]
  },
  {
   "cell_type": "code",
   "execution_count": 3,
   "metadata": {},
   "outputs": [
    {
     "name": "stdout",
     "output_type": "stream",
     "text": [
      "Number of samples with dom_difficulty=1 and img_difficulty=1: 203\n"
     ]
    }
   ],
   "source": [
    "# Isolate samples for which both dom_difficulty and img_difficulty are exactly 1\n",
    "easy_samples = [\n",
    "    ex for ex in filtered\n",
    "    if ex.get(\"dom_difficulty\", 0) == 1 and ex.get(\"img_difficulty\", 0) == 1\n",
    "]\n",
    "print(f\"Number of samples with dom_difficulty=1 and img_difficulty=1: {len(easy_samples)}\")\n"
   ]
  },
  {
   "cell_type": "code",
   "execution_count": 4,
   "metadata": {},
   "outputs": [
    {
     "name": "stdout",
     "output_type": "stream",
     "text": [
      "Saved 400 filtered examples to domvqa_fused_full_filtered.json\n"
     ]
    }
   ],
   "source": [
    "with open(\"domvqa_fused_full_filtered.json\", \"w\", encoding=\"utf-8\") as f:\n",
    "    json.dump(filtered, f, ensure_ascii=False, indent=2)\n",
    "print(f\"Saved {len(filtered)} filtered examples to domvqa_fused_full_filtered.json\")\n"
   ]
  },
  {
   "cell_type": "code",
   "execution_count": 6,
   "metadata": {},
   "outputs": [],
   "source": [
    "import base64\n",
    "from io import BytesIO\n",
    "\n",
    "# Function to encode a PIL image to base64\n",
    "def encode_image(pil_image):\n",
    "    buffered = BytesIO()\n",
    "    pil_image.save(buffered, format=\"PNG\")\n",
    "    img_bytes = buffered.getvalue()\n",
    "    return base64.b64encode(img_bytes).decode(\"utf-8\")\n",
    "\n",
    "def get_dom_messages(question, dom):\n",
    "    return [\n",
    "        {\n",
    "            \"role\": \"user\",\n",
    "            \"content\": [\n",
    "                {\"type\": \"input_text\", \"text\": \"Given the following DOM of a page, answer the question that is asked.\"},\n",
    "                {\n",
    "                    \"type\": \"input_text\",\n",
    "                    \"text\": \"<dom>\" + dom + \"</dom>\",\n",
    "                },\n",
    "                {\"type\": \"input_text\", \"text\": f\"Question: {question}\" + r\"\"\"\n",
    "                Your answer must be a boolean, a word or a number, contained within $\\boxed{}$. Now answer the question.\n",
    "                Answer:\"\"\"},\n",
    "            ],\n",
    "        }\n",
    "    ]\n",
    "\n",
    "def get_screenshot_messages(question, screenshot):\n",
    "    return [\n",
    "        {\n",
    "            \"role\": \"user\",\n",
    "            \"content\": [\n",
    "                {\"type\": \"input_text\", \"text\": \"Given the following image of a page, answer the question that is asked.\"},\n",
    "                {\n",
    "                    \"type\": \"input_image\",\n",
    "                    \"image_url\": f\"data:image/jpeg;base64,{encode_image(screenshot)}\",\n",
    "                },\n",
    "                {\"type\": \"input_text\", \"text\": f\"Question: {question}\" + r\"\"\"\n",
    "                Your answer must be a boolean, a word or a number, contained within $\\boxed{}$. Now answer the question.\n",
    "                Answer:\"\"\"},\n",
    "            ],\n",
    "        }\n",
    "    ]"
   ]
  },
  {
   "cell_type": "code",
   "execution_count": 7,
   "metadata": {},
   "outputs": [],
   "source": [
    "from openai import OpenAI\n",
    "from dotenv import load_dotenv\n",
    "import os\n",
    "\n",
    "load_dotenv()\n",
    "\n",
    "client = OpenAI(api_key=os.getenv(\"OPENAI_API_KEY\"))"
   ]
  },
  {
   "cell_type": "code",
   "execution_count": 15,
   "metadata": {},
   "outputs": [
    {
     "ename": "AttributeError",
     "evalue": "'Response' object has no attribute 'summary'",
     "output_type": "error",
     "traceback": [
      "\u001b[1;31m---------------------------------------------------------------------------\u001b[0m",
      "\u001b[1;31mKeyError\u001b[0m                                  Traceback (most recent call last)",
      "File \u001b[1;32mc:\\Users\\axeld\\AppData\\Local\\Programs\\Python\\Python312\\Lib\\site-packages\\pydantic\\main.py:986\u001b[0m, in \u001b[0;36mBaseModel.__getattr__\u001b[1;34m(self, item)\u001b[0m\n\u001b[0;32m    985\u001b[0m \u001b[38;5;28;01mtry\u001b[39;00m:\n\u001b[1;32m--> 986\u001b[0m     \u001b[38;5;28;01mreturn\u001b[39;00m \u001b[43mpydantic_extra\u001b[49m\u001b[43m[\u001b[49m\u001b[43mitem\u001b[49m\u001b[43m]\u001b[49m\n\u001b[0;32m    987\u001b[0m \u001b[38;5;28;01mexcept\u001b[39;00m \u001b[38;5;167;01mKeyError\u001b[39;00m \u001b[38;5;28;01mas\u001b[39;00m exc:\n",
      "\u001b[1;31mKeyError\u001b[0m: 'summary'",
      "\nThe above exception was the direct cause of the following exception:\n",
      "\u001b[1;31mAttributeError\u001b[0m                            Traceback (most recent call last)",
      "Cell \u001b[1;32mIn[15], line 16\u001b[0m\n\u001b[0;32m     10\u001b[0m input_messages \u001b[38;5;241m=\u001b[39m get_dom_messages(first_question, first_html) \u001b[38;5;28;01mif\u001b[39;00m k \u001b[38;5;241m==\u001b[39m \u001b[38;5;241m0\u001b[39m \u001b[38;5;28;01melse\u001b[39;00m get_screenshot_messages(first_question, first_screenshot)\n\u001b[0;32m     11\u001b[0m response \u001b[38;5;241m=\u001b[39m client\u001b[38;5;241m.\u001b[39mresponses\u001b[38;5;241m.\u001b[39mcreate(\n\u001b[0;32m     12\u001b[0m                 model\u001b[38;5;241m=\u001b[39m\u001b[38;5;124m\"\u001b[39m\u001b[38;5;124mo4-mini\u001b[39m\u001b[38;5;124m\"\u001b[39m,\n\u001b[0;32m     13\u001b[0m                 reasoning\u001b[38;5;241m=\u001b[39m{\u001b[38;5;124m\"\u001b[39m\u001b[38;5;124meffort\u001b[39m\u001b[38;5;124m\"\u001b[39m: \u001b[38;5;124m\"\u001b[39m\u001b[38;5;124mhigh\u001b[39m\u001b[38;5;124m\"\u001b[39m, \u001b[38;5;124m\"\u001b[39m\u001b[38;5;124msummary\u001b[39m\u001b[38;5;124m\"\u001b[39m: \u001b[38;5;124m\"\u001b[39m\u001b[38;5;124mdetailed\u001b[39m\u001b[38;5;124m\"\u001b[39m},\n\u001b[0;32m     14\u001b[0m                 \u001b[38;5;28minput\u001b[39m\u001b[38;5;241m=\u001b[39minput_messages\n\u001b[0;32m     15\u001b[0m )\n\u001b[1;32m---> 16\u001b[0m \u001b[38;5;28mprint\u001b[39m(\u001b[43mresponse\u001b[49m\u001b[38;5;241;43m.\u001b[39;49m\u001b[43msummary\u001b[49m)\n\u001b[0;32m     17\u001b[0m \u001b[38;5;28mprint\u001b[39m(response\u001b[38;5;241m.\u001b[39moutput_text)\n",
      "File \u001b[1;32mc:\\Users\\axeld\\AppData\\Local\\Programs\\Python\\Python312\\Lib\\site-packages\\pydantic\\main.py:988\u001b[0m, in \u001b[0;36mBaseModel.__getattr__\u001b[1;34m(self, item)\u001b[0m\n\u001b[0;32m    986\u001b[0m         \u001b[38;5;28;01mreturn\u001b[39;00m pydantic_extra[item]\n\u001b[0;32m    987\u001b[0m     \u001b[38;5;28;01mexcept\u001b[39;00m \u001b[38;5;167;01mKeyError\u001b[39;00m \u001b[38;5;28;01mas\u001b[39;00m exc:\n\u001b[1;32m--> 988\u001b[0m         \u001b[38;5;28;01mraise\u001b[39;00m \u001b[38;5;167;01mAttributeError\u001b[39;00m(\u001b[38;5;124mf\u001b[39m\u001b[38;5;124m'\u001b[39m\u001b[38;5;132;01m{\u001b[39;00m\u001b[38;5;28mtype\u001b[39m(\u001b[38;5;28mself\u001b[39m)\u001b[38;5;241m.\u001b[39m\u001b[38;5;18m__name__\u001b[39m\u001b[38;5;132;01m!r}\u001b[39;00m\u001b[38;5;124m object has no attribute \u001b[39m\u001b[38;5;132;01m{\u001b[39;00mitem\u001b[38;5;132;01m!r}\u001b[39;00m\u001b[38;5;124m'\u001b[39m) \u001b[38;5;28;01mfrom\u001b[39;00m \u001b[38;5;21;01mexc\u001b[39;00m\n\u001b[0;32m    989\u001b[0m \u001b[38;5;28;01melse\u001b[39;00m:\n\u001b[0;32m    990\u001b[0m     \u001b[38;5;28;01mif\u001b[39;00m \u001b[38;5;28mhasattr\u001b[39m(\u001b[38;5;28mself\u001b[39m\u001b[38;5;241m.\u001b[39m\u001b[38;5;18m__class__\u001b[39m, item):\n",
      "\u001b[1;31mAttributeError\u001b[0m: 'Response' object has no attribute 'summary'"
     ]
    }
   ],
   "source": [
    "from PIL import Image\n",
    "\n",
    "first_html = easy_samples[0][\"cleaned_html\"]\n",
    "first_screenshot_url = easy_samples[0][\"screenshot\"]\n",
    "first_screenshot = Image.open(first_screenshot_url)\n",
    "first_question = easy_samples[0][\"question\"]\n",
    "first_answer = easy_samples[0][\"answer\"]\n",
    "\n",
    "for k in range(2):\n",
    "    input_messages = get_dom_messages(first_question, first_html) if k == 0 else get_screenshot_messages(first_question, first_screenshot)\n",
    "    response = client.responses.create(\n",
    "                    model=\"o4-mini\",\n",
    "                    reasoning={\"effort\": \"high\", \"summary\": \"detailed\"},\n",
    "                    input=input_messages\n",
    "    )\n",
    "    print(response.summary)\n",
    "    print(response.output_text)"
   ]
  },
  {
   "cell_type": "code",
   "execution_count": null,
   "metadata": {},
   "outputs": [],
   "source": []
  }
 ],
 "metadata": {
  "kernelspec": {
   "display_name": "Python 3",
   "language": "python",
   "name": "python3"
  },
  "language_info": {
   "codemirror_mode": {
    "name": "ipython",
    "version": 3
   },
   "file_extension": ".py",
   "mimetype": "text/x-python",
   "name": "python",
   "nbconvert_exporter": "python",
   "pygments_lexer": "ipython3",
   "version": "3.12.4"
  }
 },
 "nbformat": 4,
 "nbformat_minor": 2
}
