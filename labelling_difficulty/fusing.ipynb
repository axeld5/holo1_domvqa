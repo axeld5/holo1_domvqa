{
 "cells": [
  {
   "cell_type": "code",
   "execution_count": 3,
   "metadata": {},
   "outputs": [
    {
     "name": "stdout",
     "output_type": "stream",
     "text": [
      "Loaded 201 from domvqa_verified.json\n",
      "Loaded 401 from domvqa_verified_v2.json\n",
      "Fused total: 602 examples\n"
     ]
    }
   ],
   "source": [
    "import json\n",
    "\n",
    "with open(\"domvqa_verified.json\", \"r\", encoding=\"utf-8\") as f1:\n",
    "    data1 = json.load(f1)\n",
    "with open(\"domvqa_verified_v2.json\", \"r\", encoding=\"utf-8\") as f2:\n",
    "    data2 = json.load(f2)\n",
    "\n",
    "fused = data1 + data2\n",
    "\n",
    "print(f\"Loaded {len(data1)} from domvqa_verified.json\")\n",
    "print(f\"Loaded {len(data2)} from domvqa_verified_v2.json\")\n",
    "print(f\"Fused total: {len(fused)} examples\")"
   ]
  },
  {
   "cell_type": "code",
   "execution_count": 4,
   "metadata": {},
   "outputs": [
    {
     "name": "stdout",
     "output_type": "stream",
     "text": [
      "Filtered total: 452 examples (removed 150)\n"
     ]
    }
   ],
   "source": [
    "# Remove samples where either dom_difficulty or img_difficulty is 0\n",
    "filtered = [\n",
    "    ex for ex in fused\n",
    "    if ex.get(\"dom_difficulty\", 1) != 0 and ex.get(\"img_difficulty\", 1) != 0\n",
    "]\n",
    "print(f\"Filtered total: {len(filtered)} examples (removed {len(fused) - len(filtered)})\")"
   ]
  },
  {
   "cell_type": "code",
   "execution_count": 5,
   "metadata": {},
   "outputs": [
    {
     "name": "stdout",
     "output_type": "stream",
     "text": [
      "Number of samples with dom_difficulty=1 and img_difficulty=1: 230\n"
     ]
    }
   ],
   "source": [
    "# Isolate samples for which both dom_difficulty and img_difficulty are exactly 1\n",
    "easy_samples = [\n",
    "    ex for ex in filtered\n",
    "    if ex.get(\"dom_difficulty\", 0) == 1 and ex.get(\"img_difficulty\", 0) == 1\n",
    "]\n",
    "print(f\"Number of samples with dom_difficulty=1 and img_difficulty=1: {len(easy_samples)}\")\n"
   ]
  },
  {
   "cell_type": "code",
   "execution_count": 6,
   "metadata": {},
   "outputs": [],
   "source": [
    "import base64\n",
    "from io import BytesIO\n",
    "\n",
    "# Function to encode a PIL image to base64\n",
    "def encode_image(pil_image):\n",
    "    buffered = BytesIO()\n",
    "    pil_image.save(buffered, format=\"PNG\")\n",
    "    img_bytes = buffered.getvalue()\n",
    "    return base64.b64encode(img_bytes).decode(\"utf-8\")\n",
    "\n",
    "def get_dom_messages(question, dom):\n",
    "    return [\n",
    "        {\n",
    "            \"role\": \"user\",\n",
    "            \"content\": [\n",
    "                {\"type\": \"input_text\", \"text\": \"Given the following DOM of a page, answer the question that is asked.\"},\n",
    "                {\n",
    "                    \"type\": \"input_text\",\n",
    "                    \"text\": \"<dom>\" + dom + \"</dom>\",\n",
    "                },\n",
    "                {\"type\": \"input_text\", \"text\": f\"Question: {question}\" + r\"\"\"\n",
    "                Your answer must be a boolean, a word or a number, contained within $\\boxed{}$. Now answer the question.\n",
    "                Answer:\"\"\"},\n",
    "            ],\n",
    "        }\n",
    "    ]\n",
    "\n",
    "def get_screenshot_messages(question, screenshot):\n",
    "    return [\n",
    "        {\n",
    "            \"role\": \"user\",\n",
    "            \"content\": [\n",
    "                {\"type\": \"input_text\", \"text\": \"Given the following image of a page, answer the question that is asked.\"},\n",
    "                {\n",
    "                    \"type\": \"input_image\",\n",
    "                    \"image_url\": f\"data:image/jpeg;base64,{encode_image(screenshot)}\",\n",
    "                },\n",
    "                {\"type\": \"input_text\", \"text\": f\"Question: {question}\" + r\"\"\"\n",
    "                Your answer must be a boolean, a word or a number, contained within $\\boxed{}$. Now answer the question.\n",
    "                Answer:\"\"\"},\n",
    "            ],\n",
    "        }\n",
    "    ]"
   ]
  },
  {
   "cell_type": "code",
   "execution_count": 7,
   "metadata": {},
   "outputs": [],
   "source": [
    "from openai import OpenAI\n",
    "from dotenv import load_dotenv\n",
    "import os\n",
    "\n",
    "load_dotenv()\n",
    "\n",
    "client = OpenAI(api_key=os.getenv(\"OPENAI_API_KEY\"))"
   ]
  },
  {
   "cell_type": "code",
   "execution_count": null,
   "metadata": {},
   "outputs": [],
   "source": [
    "first_html = easy_samples[0][\"cleaned_html\"]\n",
    "first_screenshot_url = easy_samples[0][\"screenshot\"]\n",
    "first_screenshot = Image.open(first_screenshot_url)\n",
    "first_question = easy_samples[0][\"question\"]\n",
    "first_answer = easy_samples[0][\"answer\"]\n",
    "\n"
   ]
  }
 ],
 "metadata": {
  "kernelspec": {
   "display_name": "Python 3",
   "language": "python",
   "name": "python3"
  },
  "language_info": {
   "codemirror_mode": {
    "name": "ipython",
    "version": 3
   },
   "file_extension": ".py",
   "mimetype": "text/x-python",
   "name": "python",
   "nbconvert_exporter": "python",
   "pygments_lexer": "ipython3",
   "version": "3.12.4"
  }
 },
 "nbformat": 4,
 "nbformat_minor": 2
}
