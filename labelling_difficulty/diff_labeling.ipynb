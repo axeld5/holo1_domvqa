{
 "cells": [
  {
   "cell_type": "code",
   "execution_count": 60,
   "metadata": {},
   "outputs": [],
   "source": [
    "import json\n",
    "\n",
    "with open('domvqa_results_v2.json', 'r', encoding='utf-8') as f:\n",
    "    domvqa_results = json.load(f)"
   ]
  },
  {
   "cell_type": "code",
   "execution_count": 61,
   "metadata": {},
   "outputs": [],
   "source": [
    "from pydantic import BaseModel\n",
    "\n",
    "class answerExtracted(BaseModel):\n",
    "    answer: str\n",
    "    reasoning: str\n",
    "\n",
    "class answerValidation(BaseModel):\n",
    "    is_correct: bool\n",
    "    reasoning: str"
   ]
  },
  {
   "cell_type": "code",
   "execution_count": 62,
   "metadata": {},
   "outputs": [],
   "source": [
    "import base64\n",
    "from io import BytesIO\n",
    "\n",
    "# Function to encode a PIL image to base64\n",
    "def encode_image(pil_image):\n",
    "    buffered = BytesIO()\n",
    "    pil_image.save(buffered, format=\"PNG\")\n",
    "    img_bytes = buffered.getvalue()\n",
    "    return base64.b64encode(img_bytes).decode(\"utf-8\")"
   ]
  },
  {
   "cell_type": "code",
   "execution_count": 63,
   "metadata": {},
   "outputs": [],
   "source": [
    "def get_dom_messages(question, dom):\n",
    "    return [\n",
    "        {\n",
    "            \"role\": \"user\",\n",
    "            \"content\": [\n",
    "                {\"type\": \"input_text\", \"text\": \"Given the following DOM of a page, answer the question that is asked.\"},\n",
    "                {\n",
    "                    \"type\": \"input_text\",\n",
    "                    \"text\": \"<dom>\" + dom + \"</dom>\",\n",
    "                },\n",
    "                {\"type\": \"input_text\", \"text\": f\"Question: {question}\" + r\"\"\"\n",
    "                Your answer must be a boolean, a word or a number, contained within $\\boxed{}$. Now answer the question.\n",
    "                Answer:\"\"\"},\n",
    "            ],\n",
    "        }\n",
    "    ]\n",
    "\n",
    "def get_screenshot_messages(question, screenshot):\n",
    "    return [\n",
    "        {\n",
    "            \"role\": \"user\",\n",
    "            \"content\": [\n",
    "                {\"type\": \"input_text\", \"text\": \"Given the following image of a page, answer the question that is asked.\"},\n",
    "                {\n",
    "                    \"type\": \"input_image\",\n",
    "                    \"image_url\": f\"data:image/jpeg;base64,{encode_image(screenshot)}\",\n",
    "                },\n",
    "                {\"type\": \"input_text\", \"text\": f\"Question: {question}\" + r\"\"\"\n",
    "                Your answer must be a boolean, a word or a number, contained within $\\boxed{}$. Now answer the question.\n",
    "                Answer:\"\"\"},\n",
    "            ],\n",
    "        }\n",
    "    ]\n",
    "\n",
    "def get_validation_messages(answer, ground_truth):\n",
    "    return [\n",
    "        {\n",
    "            \"role\": \"user\",\n",
    "            \"content\": [\n",
    "                {\"type\": \"input_text\", \"text\": \"Given the following answer and ground truth, determine if the answer is correct.\"},\n",
    "                {\"type\": \"input_text\", \"text\": f\"Answer: {answer}\"},\n",
    "                {\"type\": \"input_text\", \"text\": f\"Ground truth: {ground_truth}\"},\n",
    "            ],\n",
    "        }\n",
    "    ]"
   ]
  },
  {
   "cell_type": "code",
   "execution_count": 64,
   "metadata": {},
   "outputs": [],
   "source": [
    "# Get the first question\n",
    "from PIL import Image\n",
    "\n"
   ]
  },
  {
   "cell_type": "code",
   "execution_count": 65,
   "metadata": {},
   "outputs": [],
   "source": [
    "from openai import OpenAI\n",
    "from dotenv import load_dotenv\n",
    "import os\n",
    "\n",
    "load_dotenv()\n",
    "\n",
    "client = OpenAI(api_key=os.getenv(\"OPENAI_API_KEY\"))"
   ]
  },
  {
   "cell_type": "code",
   "execution_count": null,
   "metadata": {},
   "outputs": [
    {
     "name": "stdout",
     "output_type": "stream",
     "text": [
      "Saved 250 results\n",
      "Saved 300 results\n",
      "Saved 350 results\n"
     ]
    }
   ],
   "source": [
    "import re\n",
    "\n",
    "num_trials = 4\n",
    "results = []\n",
    "\n",
    "for i in range(250, len(domvqa_results)):\n",
    "    dom_score = 0\n",
    "    image_score = 0\n",
    "    first_html = domvqa_results[i][\"cleaned_html\"]\n",
    "    first_screenshot_url = domvqa_results[i][\"screenshot\"]\n",
    "    first_screenshot = Image.open(first_screenshot_url)\n",
    "    # Get the first screenshot and answer\n",
    "    first_question = domvqa_results[i][\"question\"]\n",
    "    first_answer = domvqa_results[i][\"answer\"]\n",
    "    for k in range(2):\n",
    "        for _ in range(num_trials):\n",
    "            input_messages = get_dom_messages(first_question, first_html) if k == 0 else get_screenshot_messages(first_question, first_screenshot)\n",
    "            response = client.responses.parse(\n",
    "                model=\"gpt-4.1-mini\",\n",
    "                input=input_messages,\n",
    "                text_format=answerExtracted,\n",
    "            )\n",
    "            answer = response.output_parsed.answer\n",
    "            parsed = None\n",
    "            match = re.search(r'\\\\boxed\\{([^}]*)\\}', answer)\n",
    "            if match:\n",
    "                parsed = match.group(1)\n",
    "\n",
    "            validation = client.responses.parse(\n",
    "                model=\"gpt-4.1-nano\",\n",
    "                input=get_validation_messages(parsed, first_answer),\n",
    "                text_format=answerValidation,\n",
    "            )\n",
    "            validate_bool = validation.output_parsed.is_correct\n",
    "            if k == 0:\n",
    "                dom_score += validate_bool\n",
    "            else:\n",
    "                image_score += validate_bool\n",
    "    dom_difficulty = dom_score / num_trials\n",
    "    img_difficulty = image_score / num_trials\n",
    "    result_dict = {\n",
    "        \"question\": first_question,\n",
    "        \"answer\": first_answer,\n",
    "        \"screenshot\": first_screenshot_url,\n",
    "        \"cleaned_html\": first_html,\n",
    "        \"dom_difficulty\": dom_difficulty,\n",
    "        \"img_difficulty\": img_difficulty\n",
    "    }\n",
    "    results.append(result_dict)\n",
    "    if i % 50 == 0:\n",
    "        print(f\"Saved {i} results\")\n",
    "        with open(\"domvqa_verified_v2.json\", \"w\") as f:\n",
    "            json.dump(results, f, indent=2)\n",
    "\n",
    "with open(\"domvqa_verified_v2.json\", \"w\") as f:\n",
    "    json.dump(results, f, indent=2)"
   ]
  },
  {
   "cell_type": "code",
   "execution_count": null,
   "metadata": {},
   "outputs": [],
   "source": []
  }
 ],
 "metadata": {
  "kernelspec": {
   "display_name": "Python 3",
   "language": "python",
   "name": "python3"
  },
  "language_info": {
   "codemirror_mode": {
    "name": "ipython",
    "version": 3
   },
   "file_extension": ".py",
   "mimetype": "text/x-python",
   "name": "python",
   "nbconvert_exporter": "python",
   "pygments_lexer": "ipython3",
   "version": "3.12.4"
  }
 },
 "nbformat": 4,
 "nbformat_minor": 2
}
