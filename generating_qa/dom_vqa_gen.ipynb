{
 "cells": [
  {
   "cell_type": "code",
   "execution_count": 1,
   "metadata": {},
   "outputs": [
    {
     "name": "stderr",
     "output_type": "stream",
     "text": [
      "c:\\Users\\axeld\\AppData\\Local\\Programs\\Python\\Python312\\Lib\\site-packages\\tqdm\\auto.py:21: TqdmWarning: IProgress not found. Please update jupyter and ipywidgets. See https://ipywidgets.readthedocs.io/en/stable/user_install.html\n",
      "  from .autonotebook import tqdm as notebook_tqdm\n"
     ]
    }
   ],
   "source": [
    "from datasets import load_dataset\n",
    "\n",
    "dataset = load_dataset(\"osunlp/Multimodal-Mind2Web\")"
   ]
  },
  {
   "cell_type": "code",
   "execution_count": 2,
   "metadata": {},
   "outputs": [],
   "source": [
    "from openai import OpenAI\n",
    "from dotenv import load_dotenv\n",
    "import os\n",
    "\n",
    "load_dotenv()\n",
    "\n",
    "client = OpenAI(api_key=os.getenv(\"OPENAI_API_KEY\"))"
   ]
  },
  {
   "cell_type": "code",
   "execution_count": 9,
   "metadata": {},
   "outputs": [],
   "source": [
    "import base64\n",
    "from io import BytesIO\n",
    "\n",
    "# Function to encode a PIL image to base64\n",
    "def encode_image(pil_image):\n",
    "    buffered = BytesIO()\n",
    "    pil_image.save(buffered, format=\"PNG\")\n",
    "    img_bytes = buffered.getvalue()\n",
    "    return base64.b64encode(img_bytes).decode(\"utf-8\")"
   ]
  },
  {
   "cell_type": "code",
   "execution_count": 23,
   "metadata": {},
   "outputs": [],
   "source": [
    "from pydantic import BaseModel\n",
    "\n",
    "class QAPair(BaseModel):\n",
    "    question: str\n",
    "    answer: str\n",
    "    reasoning: str\n",
    "\n",
    "class domvqaDataset(BaseModel):\n",
    "    qapairs: list[QAPair]\n",
    "\n",
    "domvqaDataset.model_rebuild()"
   ]
  },
  {
   "cell_type": "code",
   "execution_count": 30,
   "metadata": {},
   "outputs": [],
   "source": [
    "def get_content(dom, screenshot):\n",
    "    return [\n",
    "                { \"type\": \"input_text\", \"text\": f\"\"\"Given the dom <dom>{dom}</dom> and the screenshot of the page, \n",
    "                 generate a list of 10 verifiable question and answer pairs that can be answered using with only the DOM at your disposal or only the screenshot at your disposal.\n",
    "                 It is important that the answer to the question is obvious with just the DOM or just the screenshot.\n",
    "                 The question must have thus either a simple numerical answer, a text answer with only one word or a boolean answer.\"\"\" },\n",
    "                {\n",
    "                    \"type\": \"input_image\",\n",
    "                    \"image_url\": f\"data:image/jpeg;base64,{encode_image(screenshot)}\",\n",
    "                },\n",
    "            ]"
   ]
  },
  {
   "cell_type": "code",
   "execution_count": 34,
   "metadata": {},
   "outputs": [],
   "source": [
    "import json\n",
    "import os\n",
    "\n",
    "results = []\n",
    "\n",
    "# Ensure the images directory exists\n",
    "images_dir = \"images\"\n",
    "os.makedirs(images_dir, exist_ok=True)\n",
    "\n",
    "for i in range(100):\n",
    "    dom = dataset[\"train\"][i][\"cleaned_html\"]\n",
    "    screenshot = dataset[\"train\"][i][\"screenshot\"]\n",
    "\n",
    "    response = client.responses.parse(\n",
    "        model=\"o3\",\n",
    "        input=[\n",
    "            {\n",
    "                \"role\": \"user\",\n",
    "                \"content\": get_content(dom, screenshot)\n",
    "            }\n",
    "        ],\n",
    "        text_format=domvqaDataset,\n",
    "    )\n",
    "\n",
    "    # Save the screenshot as a PNG file in the images directory\n",
    "    image_filename = f\"screenshot_{i}.png\"\n",
    "    image_path = os.path.join(images_dir, image_filename)\n",
    "    screenshot.save(image_path, format=\"PNG\")\n",
    "\n",
    "    for qapair in response.output_parsed.qapairs:\n",
    "        results.append({\n",
    "            \"cleaned_html\": dom,\n",
    "            \"screenshot\": image_path,\n",
    "            \"question\": qapair.question,\n",
    "            \"answer\": qapair.answer,\n",
    "            \"reasoning\": qapair.reasoning\n",
    "        })\n",
    "\n",
    "with open(\"domvqa_results.json\", \"w\", encoding=\"utf-8\") as f:\n",
    "    json.dump(results, f, ensure_ascii=False, indent=2)"
   ]
  },
  {
   "cell_type": "code",
   "execution_count": null,
   "metadata": {},
   "outputs": [],
   "source": []
  }
 ],
 "metadata": {
  "kernelspec": {
   "display_name": "Python 3",
   "language": "python",
   "name": "python3"
  },
  "language_info": {
   "codemirror_mode": {
    "name": "ipython",
    "version": 3
   },
   "file_extension": ".py",
   "mimetype": "text/x-python",
   "name": "python",
   "nbconvert_exporter": "python",
   "pygments_lexer": "ipython3",
   "version": "3.12.4"
  }
 },
 "nbformat": 4,
 "nbformat_minor": 2
}
